{
 "cells": [
  {
   "cell_type": "markdown",
   "id": "d0a18d70",
   "metadata": {},
   "source": [
    "## Printing Statement !"
   ]
  },
  {
   "cell_type": "code",
   "execution_count": 49,
   "id": "7e5809b5",
   "metadata": {},
   "outputs": [
    {
     "name": "stdout",
     "output_type": "stream",
     "text": [
      "Vivek Yadav\n"
     ]
    }
   ],
   "source": [
    "print(\"Vivek Yadav\")"
   ]
  },
  {
   "cell_type": "code",
   "execution_count": 3,
   "id": "da8b4b01",
   "metadata": {},
   "outputs": [
    {
     "name": "stdout",
     "output_type": "stream",
     "text": [
      "<class 'int'>\n"
     ]
    }
   ],
   "source": [
    "x = 2\n",
    "print(type(x))"
   ]
  },
  {
   "cell_type": "code",
   "execution_count": 4,
   "id": "7496820e",
   "metadata": {},
   "outputs": [
    {
     "name": "stdout",
     "output_type": "stream",
     "text": [
      "Variable   Type    Data/Info\n",
      "----------------------------\n",
      "x          int     2\n"
     ]
    }
   ],
   "source": [
    "%whos"
   ]
  },
  {
   "cell_type": "code",
   "execution_count": 7,
   "id": "079fe97c",
   "metadata": {},
   "outputs": [],
   "source": [
    "a,b,c,d,e = 3,7.0,-1,'4',8"
   ]
  },
  {
   "cell_type": "code",
   "execution_count": 8,
   "id": "6ae8adc5",
   "metadata": {},
   "outputs": [
    {
     "name": "stdout",
     "output_type": "stream",
     "text": [
      "Variable   Type     Data/Info\n",
      "-----------------------------\n",
      "a          int      3\n",
      "b          float    7.0\n",
      "c          int      -1\n",
      "d          str      4\n",
      "e          int      8\n",
      "x          int      2\n"
     ]
    }
   ],
   "source": [
    "%whos"
   ]
  },
  {
   "cell_type": "code",
   "execution_count": 9,
   "id": "62ddd27d",
   "metadata": {},
   "outputs": [
    {
     "ename": "NameError",
     "evalue": "name 'abcde' is not defined",
     "output_type": "error",
     "traceback": [
      "\u001b[1;31m---------------------------------------------------------------------------\u001b[0m",
      "\u001b[1;31mNameError\u001b[0m                                 Traceback (most recent call last)",
      "Cell \u001b[1;32mIn[9], line 1\u001b[0m\n\u001b[1;32m----> 1\u001b[0m \u001b[38;5;28;01mdel\u001b[39;00m \u001b[43mabcde\u001b[49m\n",
      "\u001b[1;31mNameError\u001b[0m: name 'abcde' is not defined"
     ]
    }
   ],
   "source": [
    "del abcde"
   ]
  },
  {
   "cell_type": "code",
   "execution_count": 10,
   "id": "cf83a026",
   "metadata": {},
   "outputs": [],
   "source": [
    "del(a,b,c,d,e)"
   ]
  },
  {
   "cell_type": "code",
   "execution_count": 11,
   "id": "49148480",
   "metadata": {},
   "outputs": [
    {
     "name": "stdout",
     "output_type": "stream",
     "text": [
      "Variable   Type    Data/Info\n",
      "----------------------------\n",
      "x          int     2\n"
     ]
    }
   ],
   "source": [
    "%whos"
   ]
  },
  {
   "cell_type": "code",
   "execution_count": 13,
   "id": "dc438afb",
   "metadata": {},
   "outputs": [
    {
     "ename": "NameError",
     "evalue": "name 'abcde' is not defined",
     "output_type": "error",
     "traceback": [
      "\u001b[1;31m---------------------------------------------------------------------------\u001b[0m",
      "\u001b[1;31mNameError\u001b[0m                                 Traceback (most recent call last)",
      "Cell \u001b[1;32mIn[13], line 1\u001b[0m\n\u001b[1;32m----> 1\u001b[0m \u001b[38;5;28mprint\u001b[39m(\u001b[43mabcde\u001b[49m)\n",
      "\u001b[1;31mNameError\u001b[0m: name 'abcde' is not defined"
     ]
    }
   ],
   "source": [
    "print(abcde)"
   ]
  },
  {
   "cell_type": "code",
   "execution_count": 14,
   "id": "d67d41c2",
   "metadata": {},
   "outputs": [],
   "source": [
    "c = 2+4j"
   ]
  },
  {
   "cell_type": "code",
   "execution_count": 15,
   "id": "9b6e2b7a",
   "metadata": {},
   "outputs": [
    {
     "name": "stdout",
     "output_type": "stream",
     "text": [
      "<class 'complex'>\n"
     ]
    }
   ],
   "source": [
    "print(type(c))"
   ]
  },
  {
   "cell_type": "markdown",
   "id": "c3823dab",
   "metadata": {},
   "source": [
    "# # Bool"
   ]
  },
  {
   "cell_type": "code",
   "execution_count": 16,
   "id": "8ba73832",
   "metadata": {},
   "outputs": [
    {
     "name": "stdout",
     "output_type": "stream",
     "text": [
      "False\n"
     ]
    }
   ],
   "source": [
    "print((not(2!=3) and True)or(False and True))"
   ]
  },
  {
   "cell_type": "markdown",
   "id": "1a6d52a0",
   "metadata": {},
   "source": [
    "## Functions"
   ]
  },
  {
   "cell_type": "markdown",
   "id": "fbc03b2a",
   "metadata": {},
   "source": [
    "### divmod()"
   ]
  },
  {
   "cell_type": "code",
   "execution_count": 17,
   "id": "233d06fe",
   "metadata": {},
   "outputs": [
    {
     "data": {
      "text/plain": [
       "(3, 0)"
      ]
     },
     "execution_count": 17,
     "metadata": {},
     "output_type": "execute_result"
    }
   ],
   "source": [
    "divmod(12, 4)"
   ]
  },
  {
   "cell_type": "code",
   "execution_count": 18,
   "id": "61055c14",
   "metadata": {},
   "outputs": [],
   "source": [
    "a = divmod(12, 3)"
   ]
  },
  {
   "cell_type": "code",
   "execution_count": 19,
   "id": "9d32c043",
   "metadata": {},
   "outputs": [
    {
     "name": "stdout",
     "output_type": "stream",
     "text": [
      "(4, 0)\n"
     ]
    }
   ],
   "source": [
    "print(a)"
   ]
  },
  {
   "cell_type": "code",
   "execution_count": 20,
   "id": "3662cc0f",
   "metadata": {},
   "outputs": [
    {
     "name": "stdout",
     "output_type": "stream",
     "text": [
      "<class 'tuple'>\n"
     ]
    }
   ],
   "source": [
    "print(type(a))"
   ]
  },
  {
   "cell_type": "code",
   "execution_count": 21,
   "id": "05c09542",
   "metadata": {},
   "outputs": [
    {
     "data": {
      "text/plain": [
       "4"
      ]
     },
     "execution_count": 21,
     "metadata": {},
     "output_type": "execute_result"
    }
   ],
   "source": [
    "a[0]"
   ]
  },
  {
   "cell_type": "code",
   "execution_count": 22,
   "id": "1c0be3cf",
   "metadata": {},
   "outputs": [
    {
     "data": {
      "text/plain": [
       "0"
      ]
     },
     "execution_count": 22,
     "metadata": {},
     "output_type": "execute_result"
    }
   ],
   "source": [
    "a[1]"
   ]
  },
  {
   "cell_type": "markdown",
   "id": "23321e3d",
   "metadata": {},
   "source": [
    "### isinstance()"
   ]
  },
  {
   "cell_type": "code",
   "execution_count": 24,
   "id": "23cbd308",
   "metadata": {},
   "outputs": [
    {
     "data": {
      "text/plain": [
       "True"
      ]
     },
     "execution_count": 24,
     "metadata": {},
     "output_type": "execute_result"
    }
   ],
   "source": [
    "isinstance(3, int)"
   ]
  },
  {
   "cell_type": "code",
   "execution_count": 25,
   "id": "8e35c10b",
   "metadata": {},
   "outputs": [
    {
     "data": {
      "text/plain": [
       "False"
      ]
     },
     "execution_count": 25,
     "metadata": {},
     "output_type": "execute_result"
    }
   ],
   "source": [
    "isinstance(2 + 3j, (int, float))"
   ]
  },
  {
   "cell_type": "markdown",
   "id": "5eb7e48e",
   "metadata": {},
   "source": [
    "### power()"
   ]
  },
  {
   "cell_type": "code",
   "execution_count": 26,
   "id": "1b9041dd",
   "metadata": {},
   "outputs": [
    {
     "data": {
      "text/plain": [
       "16"
      ]
     },
     "execution_count": 26,
     "metadata": {},
     "output_type": "execute_result"
    }
   ],
   "source": [
    "pow(2, 4)"
   ]
  },
  {
   "cell_type": "code",
   "execution_count": 27,
   "id": "979e8707",
   "metadata": {},
   "outputs": [
    {
     "data": {
      "text/plain": [
       "2"
      ]
     },
     "execution_count": 27,
     "metadata": {},
     "output_type": "execute_result"
    }
   ],
   "source": [
    "pow(2, 4, 7)"
   ]
  },
  {
   "cell_type": "markdown",
   "id": "9eed37d7",
   "metadata": {},
   "source": [
    "#### First it resolve 2 raise the power 4 then remainder by 7"
   ]
  },
  {
   "cell_type": "markdown",
   "id": "f36e12bc",
   "metadata": {},
   "source": [
    "# First Question"
   ]
  },
  {
   "cell_type": "markdown",
   "id": "e8de46a1",
   "metadata": {},
   "source": [
    "  ## Take two inputs and print the bigger one !"
   ]
  },
  {
   "cell_type": "code",
   "execution_count": 29,
   "id": "ba917d13",
   "metadata": {},
   "outputs": [
    {
     "name": "stdout",
     "output_type": "stream",
     "text": [
      "Enter the first number: 56\n",
      "Enter the second number: 56\n",
      "Both a and b are equal\n"
     ]
    }
   ],
   "source": [
    "a = int(input(\"Enter the first number: \"))\n",
    "b = int(input(\"Enter the second number: \"))\n",
    "if a > b:\n",
    "    print(\"The bigger number is a : \", a)\n",
    "elif a == b:\n",
    "    print(\"Both a and b are equal\")\n",
    "else:\n",
    "    print(\"The bigger number is b : \", b)"
   ]
  },
  {
   "cell_type": "markdown",
   "id": "3b58fdb0",
   "metadata": {},
   "source": [
    "# Loops"
   ]
  },
  {
   "cell_type": "markdown",
   "id": "9b36fca6",
   "metadata": {},
   "source": [
    "### While loop"
   ]
  },
  {
   "cell_type": "code",
   "execution_count": 3,
   "id": "d410626b",
   "metadata": {},
   "outputs": [
    {
     "name": "stdout",
     "output_type": "stream",
     "text": [
      "Enter how many times you want to iterate the loop : 4\n",
      "1\n",
      "This is iteration number :  1\n",
      "4\n",
      "This is iteration number :  2\n",
      "9\n",
      "This is iteration number :  3\n",
      "Loop done\n"
     ]
    }
   ],
   "source": [
    "n = int(input(\"Enter how many times you want to iterate the loop : \"))\n",
    "i = 1\n",
    "while i < n:\n",
    "    print(i**2)\n",
    "    print(\"This is iteration number : \",i)\n",
    "    i += 1\n",
    "print(\"Loop done\")    "
   ]
  },
  {
   "cell_type": "code",
   "execution_count": 4,
   "id": "972ee152",
   "metadata": {},
   "outputs": [
    {
     "name": "stdout",
     "output_type": "stream",
     "text": [
      "Enter how many times you want to iterate the loop : 4\n",
      "2\n",
      "Loop done\n"
     ]
    }
   ],
   "source": [
    "n = int(input(\"Enter how many times you want to iterate the loop : \"))\n",
    "i = 1\n",
    "while i < n:\n",
    "    if i % 2 == 0:\n",
    "        print(i)\n",
    "    else:\n",
    "        pass\n",
    "    i += 1\n",
    "print(\"Loop done\")    "
   ]
  },
  {
   "cell_type": "markdown",
   "id": "9280eeac",
   "metadata": {},
   "source": [
    "### For Loop"
   ]
  },
  {
   "cell_type": "code",
   "execution_count": 5,
   "id": "78548182",
   "metadata": {},
   "outputs": [
    {
     "name": "stdout",
     "output_type": "stream",
     "text": [
      "1\n",
      "2\n",
      "3\n",
      "4\n",
      "5\n",
      "6\n",
      "7\n",
      "8\n",
      "9\n",
      "10\n"
     ]
    }
   ],
   "source": [
    "L = []\n",
    "for i in range(10):\n",
    "    print(i+1)\n",
    "    L.append(i**2)"
   ]
  },
  {
   "cell_type": "code",
   "execution_count": 12,
   "id": "25891161",
   "metadata": {},
   "outputs": [
    {
     "name": "stdout",
     "output_type": "stream",
     "text": [
      "[0, 1, 4, 9, 16, 25, 36, 49, 64, 81]\n"
     ]
    }
   ],
   "source": [
    "print(L)"
   ]
  },
  {
   "cell_type": "code",
   "execution_count": 14,
   "id": "98a47a33",
   "metadata": {},
   "outputs": [
    {
     "name": "stdout",
     "output_type": "stream",
     "text": [
      "25\n"
     ]
    }
   ],
   "source": [
    "print(L[5])"
   ]
  },
  {
   "cell_type": "markdown",
   "id": "4f97acd3",
   "metadata": {},
   "source": [
    "#### Else in for loop"
   ]
  },
  {
   "cell_type": "code",
   "execution_count": 16,
   "id": "a64c7e98",
   "metadata": {},
   "outputs": [
    {
     "name": "stdout",
     "output_type": "stream",
     "text": [
      "Apple\n",
      "4.9\n",
      "Cherry\n",
      "Loop terminates with success\n",
      "Out side the loop\n"
     ]
    }
   ],
   "source": [
    "S = {\"Apple\", 4.9, \"Cherry\"}\n",
    "for x in S:\n",
    "    print(x)\n",
    "else:\n",
    "    print(\"Loop terminates with success\")\n",
    "print(\"Out side the loop\")    "
   ]
  },
  {
   "cell_type": "markdown",
   "id": "c2bc90be",
   "metadata": {},
   "source": [
    "## Dictionary"
   ]
  },
  {
   "cell_type": "code",
   "execution_count": 17,
   "id": "8a853be9",
   "metadata": {},
   "outputs": [
    {
     "name": "stdout",
     "output_type": "stream",
     "text": [
      "Apple 44\n",
      "Cherry game\n"
     ]
    }
   ],
   "source": [
    "D = {\"Apple\":44, \"Cherry\":\"game\"}\n",
    "for x in D:\n",
    "    print(x, D[x])"
   ]
  },
  {
   "cell_type": "markdown",
   "id": "ef38bf76",
   "metadata": {},
   "source": [
    "### Question"
   ]
  },
  {
   "cell_type": "markdown",
   "id": "de5747c2",
   "metadata": {},
   "source": [
    "#### You have to given a list of numbers i.e. [1,2,4,-5,7,9,3,2] make another list that contains all the items in sorted order from min to max i.e. your result will be another list like [-5,1,2,2,3,3,7,9] "
   ]
  },
  {
   "cell_type": "code",
   "execution_count": 23,
   "id": "2cf4e348",
   "metadata": {},
   "outputs": [
    {
     "name": "stdout",
     "output_type": "stream",
     "text": [
      "[-5, 1, 2, 2, 3, 4, 7, 9]\n"
     ]
    }
   ],
   "source": [
    "L = [1,2,4,-5,7,9,3,2]\n",
    "for j in range(len(L)):\n",
    "    m = L[j]\n",
    "    idx = j\n",
    "    c = j\n",
    "    for i in range(j,len(L)):\n",
    "        if L[i]<m:\n",
    "            m = L[i]\n",
    "            idx = c\n",
    "        c += 1\n",
    "    tmp = L[j]\n",
    "    L[j] = m\n",
    "    L[idx] = tmp\n",
    "print(L)  "
   ]
  },
  {
   "cell_type": "markdown",
   "id": "3aa460e3",
   "metadata": {},
   "source": [
    " # string"
   ]
  },
  {
   "cell_type": "code",
   "execution_count": 30,
   "id": "f18017a9",
   "metadata": {},
   "outputs": [
    {
     "name": "stdout",
     "output_type": "stream",
     "text": [
      "The price of this book is : 12\n",
      "The price of this book is : 12\n"
     ]
    }
   ],
   "source": [
    "price = 12\n",
    "s = \"The price of this book\"\n",
    "v = s +' is : ' + str(price)\n",
    "print(v)\n",
    "print(s,\"is :\",price)"
   ]
  },
  {
   "cell_type": "markdown",
   "id": "2c371562",
   "metadata": {},
   "source": [
    "#### multiline string"
   ]
  },
  {
   "cell_type": "code",
   "execution_count": 33,
   "id": "16dd7bcc",
   "metadata": {},
   "outputs": [
    {
     "name": "stdout",
     "output_type": "stream",
     "text": [
      "This is line 1\n",
      "This is line 2\n",
      "This is line 3 \n"
     ]
    }
   ],
   "source": [
    "a = \"\"\"This is line 1\n",
    "This is line 2\n",
    "This is line 3 \"\"\"\n",
    "\n",
    "print(a)"
   ]
  },
  {
   "cell_type": "markdown",
   "id": "3dbec113",
   "metadata": {},
   "source": [
    "### Indexing and Slicing"
   ]
  },
  {
   "cell_type": "code",
   "execution_count": 34,
   "id": "7a191a14",
   "metadata": {},
   "outputs": [
    {
     "name": "stdout",
     "output_type": "stream",
     "text": [
      "e of \n",
      "gramm\n",
      "19\n",
      "5\n"
     ]
    }
   ],
   "source": [
    "a = \"Game of programming\"\n",
    "print(a[3:8])\n",
    "print(a[-8:-3])\n",
    "\n",
    "print(len(a))\n",
    "print(len(a[3:8]))"
   ]
  },
  {
   "cell_type": "code",
   "execution_count": 35,
   "id": "85347acd",
   "metadata": {},
   "outputs": [
    {
     "name": "stdout",
     "output_type": "stream",
     "text": [
      "g\n"
     ]
    }
   ],
   "source": [
    "print(a[-8])"
   ]
  },
  {
   "cell_type": "code",
   "execution_count": 36,
   "id": "5bf8fdec",
   "metadata": {},
   "outputs": [
    {
     "name": "stdout",
     "output_type": "stream",
     "text": [
      "i\n"
     ]
    }
   ],
   "source": [
    "print(a[-3])"
   ]
  },
  {
   "cell_type": "code",
   "execution_count": 37,
   "id": "0f38168a",
   "metadata": {},
   "outputs": [
    {
     "name": "stdout",
     "output_type": "stream",
     "text": [
      "gnimmargorp fo emaG\n"
     ]
    }
   ],
   "source": [
    "print(a[::-1])"
   ]
  },
  {
   "cell_type": "markdown",
   "id": "9425c49a",
   "metadata": {},
   "source": [
    "#### Start:End:Step"
   ]
  },
  {
   "cell_type": "code",
   "execution_count": 39,
   "id": "ab2779ca",
   "metadata": {},
   "outputs": [
    {
     "data": {
      "text/plain": [
       "'Gm fpormig'"
      ]
     },
     "execution_count": 39,
     "metadata": {},
     "output_type": "execute_result"
    }
   ],
   "source": [
    "a[0:19:2]"
   ]
  },
  {
   "cell_type": "code",
   "execution_count": 42,
   "id": "8d1afa1d",
   "metadata": {},
   "outputs": [
    {
     "name": "stdout",
     "output_type": "stream",
     "text": [
      "A lot of spaces at the beginning and End\n",
      "a lot of spaces at the beginning and end\n",
      "A LOT OF SPACES AT THE BEGINNING AND END\n",
      "    a lot of spaces at the beginning and End     \n"
     ]
    }
   ],
   "source": [
    "a = \"    A lot of spaces at the beginning and End     \"\n",
    "b = a.strip()\n",
    "print(b)\n",
    "print(b.lower())\n",
    "print(b.upper())\n",
    "print(a.replace(\"A\",\"a\"))\n"
   ]
  },
  {
   "cell_type": "code",
   "execution_count": 43,
   "id": "9fd749b4",
   "metadata": {},
   "outputs": [
    {
     "name": "stdout",
     "output_type": "stream",
     "text": [
      "['abc', 'def', 'ghijkl', 'y223']\n"
     ]
    }
   ],
   "source": [
    "a = \"abc;def;ghijkl;y223\"\n",
    "L = a.split(\";\")\n",
    "print(L)"
   ]
  },
  {
   "cell_type": "code",
   "execution_count": 45,
   "id": "a6ab3aba",
   "metadata": {},
   "outputs": [
    {
     "name": "stdout",
     "output_type": "stream",
     "text": [
      "def\n"
     ]
    }
   ],
   "source": [
    "print(L[1])"
   ]
  },
  {
   "cell_type": "markdown",
   "id": "92e76691",
   "metadata": {},
   "source": [
    "## Use of 'in' or 'not in' in string"
   ]
  },
  {
   "cell_type": "code",
   "execution_count": 50,
   "id": "93425679",
   "metadata": {},
   "outputs": [
    {
     "data": {
      "text/plain": [
       "False"
      ]
     },
     "execution_count": 50,
     "metadata": {},
     "output_type": "execute_result"
    }
   ],
   "source": [
    "\"abc\" in \"asdfafdjal;jfdopasdfobajfd;l\""
   ]
  },
  {
   "cell_type": "code",
   "execution_count": 48,
   "id": "b704bccc",
   "metadata": {},
   "outputs": [
    {
     "data": {
      "text/plain": [
       "True"
      ]
     },
     "execution_count": 48,
     "metadata": {},
     "output_type": "execute_result"
    }
   ],
   "source": [
    "\"abc\" in \"asdfafdjal;jfdopasdfobajfd;labc\""
   ]
  },
  {
   "cell_type": "code",
   "execution_count": 52,
   "id": "3aa7a6be",
   "metadata": {},
   "outputs": [
    {
     "data": {
      "text/plain": [
       "True"
      ]
     },
     "execution_count": 52,
     "metadata": {},
     "output_type": "execute_result"
    }
   ],
   "source": [
    "\"jk\" in \"gdtrhdhmjku\""
   ]
  },
  {
   "cell_type": "code",
   "execution_count": 53,
   "id": "fc293a23",
   "metadata": {},
   "outputs": [
    {
     "data": {
      "text/plain": [
       "True"
      ]
     },
     "execution_count": 53,
     "metadata": {},
     "output_type": "execute_result"
    }
   ],
   "source": [
    "\"%&\"<\"*&\""
   ]
  },
  {
   "cell_type": "code",
   "execution_count": 54,
   "id": "fd05201f",
   "metadata": {},
   "outputs": [
    {
     "name": "stdout",
     "output_type": "stream",
     "text": [
      "we are learning \"string\" here\n"
     ]
    }
   ],
   "source": [
    "print(\"we are learning \\\"string\\\" here\")"
   ]
  },
  {
   "cell_type": "code",
   "execution_count": 55,
   "id": "ce14e278",
   "metadata": {},
   "outputs": [
    {
     "name": "stdout",
     "output_type": "stream",
     "text": [
      "we are learning \"string\" here\n"
     ]
    }
   ],
   "source": [
    "print('we are learning \"string\" here')"
   ]
  },
  {
   "cell_type": "code",
   "execution_count": 59,
   "id": "108c86db",
   "metadata": {},
   "outputs": [
    {
     "name": "stdout",
     "output_type": "stream",
     "text": [
      "c:\n",
      "ame\\drive\n"
     ]
    },
    {
     "data": {
      "text/plain": [
       "'here in \\name \"\\n\" treat as a new line character !'"
      ]
     },
     "execution_count": 59,
     "metadata": {},
     "output_type": "execute_result"
    }
   ],
   "source": [
    "print(\"c:\\name\\drive\")\n",
    "'''here in \\name \"\\n\" treat as a new line character !'''"
   ]
  },
  {
   "cell_type": "markdown",
   "id": "7ec4e382",
   "metadata": {},
   "source": [
    "#### for resolve this we use raw string format "
   ]
  },
  {
   "cell_type": "code",
   "execution_count": 60,
   "id": "aa1d2b08",
   "metadata": {},
   "outputs": [
    {
     "name": "stdout",
     "output_type": "stream",
     "text": [
      "c:\\name\\drive\n"
     ]
    },
    {
     "data": {
      "text/plain": [
       "'for raw string format we use \"r\" before statement'"
      ]
     },
     "execution_count": 60,
     "metadata": {},
     "output_type": "execute_result"
    }
   ],
   "source": [
    "print(r\"c:\\name\\drive\")\n",
    "'''for raw string format we use \"r\" before statement'''"
   ]
  },
  {
   "cell_type": "markdown",
   "id": "96a48242",
   "metadata": {},
   "source": [
    "# Data Structures"
   ]
  },
  {
   "cell_type": "markdown",
   "id": "e4cfc5e1",
   "metadata": {},
   "source": [
    "# List"
   ]
  },
  {
   "cell_type": "code",
   "execution_count": 74,
   "id": "c5d0ce20",
   "metadata": {},
   "outputs": [],
   "source": [
    "L = [12, \"banana\", 5.3]"
   ]
  },
  {
   "cell_type": "markdown",
   "id": "226b0aa6",
   "metadata": {},
   "source": [
    "### List is ordered"
   ]
  },
  {
   "cell_type": "code",
   "execution_count": 75,
   "id": "f5ae768f",
   "metadata": {},
   "outputs": [
    {
     "data": {
      "text/plain": [
       "'banana'"
      ]
     },
     "execution_count": 75,
     "metadata": {},
     "output_type": "execute_result"
    }
   ],
   "source": [
    "L[1]"
   ]
  },
  {
   "cell_type": "code",
   "execution_count": 76,
   "id": "8a29911c",
   "metadata": {},
   "outputs": [],
   "source": [
    "L = L+[\"game\"]"
   ]
  },
  {
   "cell_type": "code",
   "execution_count": 77,
   "id": "e2c61606",
   "metadata": {},
   "outputs": [],
   "source": [
    "L[2] = \"orange\""
   ]
  },
  {
   "cell_type": "markdown",
   "id": "fbbec06a",
   "metadata": {},
   "source": [
    "### List is changeable"
   ]
  },
  {
   "cell_type": "code",
   "execution_count": 78,
   "id": "11ea982f",
   "metadata": {},
   "outputs": [
    {
     "data": {
      "text/plain": [
       "[12, 'banana', 'orange', 'game']"
      ]
     },
     "execution_count": 78,
     "metadata": {},
     "output_type": "execute_result"
    }
   ],
   "source": [
    "L"
   ]
  },
  {
   "cell_type": "code",
   "execution_count": 79,
   "id": "3fc02aee",
   "metadata": {},
   "outputs": [],
   "source": [
    "del L[1]"
   ]
  },
  {
   "cell_type": "code",
   "execution_count": 80,
   "id": "04656dbf",
   "metadata": {},
   "outputs": [
    {
     "data": {
      "text/plain": [
       "[12, 'orange', 'game']"
      ]
     },
     "execution_count": 80,
     "metadata": {},
     "output_type": "execute_result"
    }
   ],
   "source": [
    "L"
   ]
  },
  {
   "cell_type": "code",
   "execution_count": 81,
   "id": "230a852b",
   "metadata": {},
   "outputs": [],
   "source": [
    "L2 = L.copy()"
   ]
  },
  {
   "cell_type": "markdown",
   "id": "41c7c139",
   "metadata": {},
   "source": [
    "### In List we make duplicates "
   ]
  },
  {
   "cell_type": "code",
   "execution_count": 82,
   "id": "dc047098",
   "metadata": {},
   "outputs": [
    {
     "data": {
      "text/plain": [
       "[12, 'orange', 'game']"
      ]
     },
     "execution_count": 82,
     "metadata": {},
     "output_type": "execute_result"
    }
   ],
   "source": [
    "L2"
   ]
  },
  {
   "cell_type": "code",
   "execution_count": 121,
   "id": "4c3aaf79",
   "metadata": {},
   "outputs": [
    {
     "data": {
      "text/plain": [
       "['game', 'orange', 12]"
      ]
     },
     "execution_count": 121,
     "metadata": {},
     "output_type": "execute_result"
    }
   ],
   "source": [
    "L2[::-1]"
   ]
  },
  {
   "cell_type": "code",
   "execution_count": 122,
   "id": "05a54d44",
   "metadata": {},
   "outputs": [
    {
     "data": {
      "text/plain": [
       "[12, 'orange']"
      ]
     },
     "execution_count": 122,
     "metadata": {},
     "output_type": "execute_result"
    }
   ],
   "source": [
    "L2[0:2]"
   ]
  },
  {
   "cell_type": "markdown",
   "id": "5ec51466",
   "metadata": {},
   "source": [
    "# Tuple"
   ]
  },
  {
   "cell_type": "code",
   "execution_count": 89,
   "id": "48f44564",
   "metadata": {},
   "outputs": [],
   "source": [
    "T = (12, \"banana\", 5.3)"
   ]
  },
  {
   "cell_type": "markdown",
   "id": "57908864",
   "metadata": {},
   "source": [
    "### Tuple is ordered"
   ]
  },
  {
   "cell_type": "code",
   "execution_count": 90,
   "id": "1ccb0a61",
   "metadata": {},
   "outputs": [
    {
     "data": {
      "text/plain": [
       "5.3"
      ]
     },
     "execution_count": 90,
     "metadata": {},
     "output_type": "execute_result"
    }
   ],
   "source": [
    "T[2]"
   ]
  },
  {
   "cell_type": "markdown",
   "id": "7403d325",
   "metadata": {},
   "source": [
    "### Tuple is unchangeable"
   ]
  },
  {
   "cell_type": "code",
   "execution_count": 95,
   "id": "f5f61cc0",
   "metadata": {},
   "outputs": [
    {
     "ename": "TypeError",
     "evalue": "can only concatenate tuple (not \"str\") to tuple",
     "output_type": "error",
     "traceback": [
      "\u001b[1;31m---------------------------------------------------------------------------\u001b[0m",
      "\u001b[1;31mTypeError\u001b[0m                                 Traceback (most recent call last)",
      "Cell \u001b[1;32mIn[95], line 1\u001b[0m\n\u001b[1;32m----> 1\u001b[0m T \u001b[38;5;241m=\u001b[39m \u001b[43mT\u001b[49m\u001b[38;5;241;43m+\u001b[39;49m\u001b[43m(\u001b[49m\u001b[38;5;124;43m\"\u001b[39;49m\u001b[38;5;124;43mgame\u001b[39;49m\u001b[38;5;124;43m\"\u001b[39;49m\u001b[43m)\u001b[49m\n",
      "\u001b[1;31mTypeError\u001b[0m: can only concatenate tuple (not \"str\") to tuple"
     ]
    }
   ],
   "source": [
    "T = T+(\"game\")"
   ]
  },
  {
   "cell_type": "code",
   "execution_count": 91,
   "id": "5a1810b8",
   "metadata": {},
   "outputs": [
    {
     "ename": "TypeError",
     "evalue": "'tuple' object does not support item assignment",
     "output_type": "error",
     "traceback": [
      "\u001b[1;31m---------------------------------------------------------------------------\u001b[0m",
      "\u001b[1;31mTypeError\u001b[0m                                 Traceback (most recent call last)",
      "Cell \u001b[1;32mIn[91], line 1\u001b[0m\n\u001b[1;32m----> 1\u001b[0m \u001b[43mT\u001b[49m\u001b[43m[\u001b[49m\u001b[38;5;241;43m3\u001b[39;49m\u001b[43m]\u001b[49m \u001b[38;5;241m=\u001b[39m T[\u001b[38;5;241m0\u001b[39m] \u001b[38;5;241m+\u001b[39m T[\u001b[38;5;241m2\u001b[39m]\n",
      "\u001b[1;31mTypeError\u001b[0m: 'tuple' object does not support item assignment"
     ]
    }
   ],
   "source": [
    "T[3] = T[0] + T[2]"
   ]
  },
  {
   "cell_type": "code",
   "execution_count": 92,
   "id": "379c136a",
   "metadata": {},
   "outputs": [
    {
     "data": {
      "text/plain": [
       "(12, 'banana', 5.3)"
      ]
     },
     "execution_count": 92,
     "metadata": {},
     "output_type": "execute_result"
    }
   ],
   "source": [
    "T"
   ]
  },
  {
   "cell_type": "code",
   "execution_count": 96,
   "id": "11ff428b",
   "metadata": {},
   "outputs": [
    {
     "ename": "TypeError",
     "evalue": "'tuple' object doesn't support item deletion",
     "output_type": "error",
     "traceback": [
      "\u001b[1;31m---------------------------------------------------------------------------\u001b[0m",
      "\u001b[1;31mTypeError\u001b[0m                                 Traceback (most recent call last)",
      "Cell \u001b[1;32mIn[96], line 1\u001b[0m\n\u001b[1;32m----> 1\u001b[0m \u001b[38;5;28;01mdel\u001b[39;00m \u001b[43mT\u001b[49m\u001b[43m[\u001b[49m\u001b[38;5;241;43m1\u001b[39;49m\u001b[43m]\u001b[49m\n",
      "\u001b[1;31mTypeError\u001b[0m: 'tuple' object doesn't support item deletion"
     ]
    }
   ],
   "source": [
    "del T[1]"
   ]
  },
  {
   "cell_type": "code",
   "execution_count": 97,
   "id": "247d1898",
   "metadata": {},
   "outputs": [],
   "source": [
    "T2 = T"
   ]
  },
  {
   "cell_type": "markdown",
   "id": "aab722bc",
   "metadata": {},
   "source": [
    "### In Tuple we make duplicates"
   ]
  },
  {
   "cell_type": "code",
   "execution_count": 98,
   "id": "75a422d7",
   "metadata": {},
   "outputs": [
    {
     "data": {
      "text/plain": [
       "(12, 'banana', 5.3)"
      ]
     },
     "execution_count": 98,
     "metadata": {},
     "output_type": "execute_result"
    }
   ],
   "source": [
    "T2"
   ]
  },
  {
   "cell_type": "code",
   "execution_count": 126,
   "id": "3c02c651",
   "metadata": {},
   "outputs": [
    {
     "data": {
      "text/plain": [
       "(12, 'banana', 5.3)"
      ]
     },
     "execution_count": 126,
     "metadata": {},
     "output_type": "execute_result"
    }
   ],
   "source": [
    "T2[:3]"
   ]
  },
  {
   "cell_type": "markdown",
   "id": "c7763ff5",
   "metadata": {},
   "source": [
    "# Set"
   ]
  },
  {
   "cell_type": "code",
   "execution_count": 99,
   "id": "a7b12f86",
   "metadata": {},
   "outputs": [],
   "source": [
    "S = {12, \"banana\",5.3}"
   ]
  },
  {
   "cell_type": "markdown",
   "id": "dcf6a3f9",
   "metadata": {},
   "source": [
    "### Set is unordered"
   ]
  },
  {
   "cell_type": "code",
   "execution_count": 101,
   "id": "0c83aa6c",
   "metadata": {},
   "outputs": [
    {
     "data": {
      "text/plain": [
       "False"
      ]
     },
     "execution_count": 101,
     "metadata": {},
     "output_type": "execute_result"
    }
   ],
   "source": [
    "x in S"
   ]
  },
  {
   "cell_type": "code",
   "execution_count": 102,
   "id": "0bc7822c",
   "metadata": {},
   "outputs": [],
   "source": [
    "S.add(\"new item\")"
   ]
  },
  {
   "cell_type": "code",
   "execution_count": 103,
   "id": "d6133e4b",
   "metadata": {},
   "outputs": [],
   "source": [
    "S.update({\"more\",\"items\"})"
   ]
  },
  {
   "cell_type": "code",
   "execution_count": 104,
   "id": "efa4d415",
   "metadata": {},
   "outputs": [
    {
     "data": {
      "text/plain": [
       "{12, 5.3, 'banana', 'items', 'more', 'new item'}"
      ]
     },
     "execution_count": 104,
     "metadata": {},
     "output_type": "execute_result"
    }
   ],
   "source": [
    "S"
   ]
  },
  {
   "cell_type": "code",
   "execution_count": 106,
   "id": "540a28da",
   "metadata": {},
   "outputs": [],
   "source": [
    "S.remove(\"banana\")"
   ]
  },
  {
   "cell_type": "markdown",
   "id": "dba9fcbd",
   "metadata": {},
   "source": [
    "### In Set Adding and Removing items is Allowed"
   ]
  },
  {
   "cell_type": "code",
   "execution_count": 107,
   "id": "e633b60f",
   "metadata": {},
   "outputs": [
    {
     "data": {
      "text/plain": [
       "{12, 5.3, 'items', 'more', 'new item'}"
      ]
     },
     "execution_count": 107,
     "metadata": {},
     "output_type": "execute_result"
    }
   ],
   "source": [
    "S"
   ]
  },
  {
   "cell_type": "code",
   "execution_count": 108,
   "id": "51da0847",
   "metadata": {},
   "outputs": [],
   "source": [
    "S2 = S.copy()"
   ]
  },
  {
   "cell_type": "code",
   "execution_count": null,
   "id": "3f5f5b53",
   "metadata": {},
   "outputs": [],
   "source": []
  },
  {
   "cell_type": "code",
   "execution_count": 109,
   "id": "e5ece332",
   "metadata": {},
   "outputs": [
    {
     "data": {
      "text/plain": [
       "{12, 5.3, 'items', 'more', 'new item'}"
      ]
     },
     "execution_count": 109,
     "metadata": {},
     "output_type": "execute_result"
    }
   ],
   "source": [
    "S2"
   ]
  },
  {
   "cell_type": "code",
   "execution_count": 110,
   "id": "cfbbd703",
   "metadata": {},
   "outputs": [],
   "source": [
    "del S2"
   ]
  },
  {
   "cell_type": "code",
   "execution_count": 111,
   "id": "c63fb25e",
   "metadata": {},
   "outputs": [
    {
     "ename": "NameError",
     "evalue": "name 'S2' is not defined",
     "output_type": "error",
     "traceback": [
      "\u001b[1;31m---------------------------------------------------------------------------\u001b[0m",
      "\u001b[1;31mNameError\u001b[0m                                 Traceback (most recent call last)",
      "Cell \u001b[1;32mIn[111], line 1\u001b[0m\n\u001b[1;32m----> 1\u001b[0m \u001b[43mS2\u001b[49m\n",
      "\u001b[1;31mNameError\u001b[0m: name 'S2' is not defined"
     ]
    }
   ],
   "source": [
    "S2"
   ]
  },
  {
   "cell_type": "markdown",
   "id": "a180821a",
   "metadata": {},
   "source": [
    "# Dictionary"
   ]
  },
  {
   "cell_type": "code",
   "execution_count": 112,
   "id": "915d1344",
   "metadata": {},
   "outputs": [],
   "source": [
    "D = {\"val\":12,\"name\":\"Ban\"}"
   ]
  },
  {
   "cell_type": "markdown",
   "id": "aeb7aa07",
   "metadata": {},
   "source": [
    "### Dictionary is unordered"
   ]
  },
  {
   "cell_type": "code",
   "execution_count": 113,
   "id": "d4ca9eb6",
   "metadata": {},
   "outputs": [
    {
     "data": {
      "text/plain": [
       "12"
      ]
     },
     "execution_count": 113,
     "metadata": {},
     "output_type": "execute_result"
    }
   ],
   "source": [
    "D[\"val\"]"
   ]
  },
  {
   "cell_type": "code",
   "execution_count": 114,
   "id": "e08b8155",
   "metadata": {},
   "outputs": [
    {
     "ename": "NameError",
     "evalue": "name 'newvalue' is not defined",
     "output_type": "error",
     "traceback": [
      "\u001b[1;31m---------------------------------------------------------------------------\u001b[0m",
      "\u001b[1;31mNameError\u001b[0m                                 Traceback (most recent call last)",
      "Cell \u001b[1;32mIn[114], line 1\u001b[0m\n\u001b[1;32m----> 1\u001b[0m D[\u001b[38;5;124m\"\u001b[39m\u001b[38;5;124mval\u001b[39m\u001b[38;5;124m\"\u001b[39m] \u001b[38;5;241m=\u001b[39m \u001b[43mnewvalue\u001b[49m\n",
      "\u001b[1;31mNameError\u001b[0m: name 'newvalue' is not defined"
     ]
    }
   ],
   "source": [
    "D[\"val\"] = newvalue"
   ]
  },
  {
   "cell_type": "markdown",
   "id": "338057a3",
   "metadata": {},
   "source": [
    "### Dictionary is changeable"
   ]
  },
  {
   "cell_type": "code",
   "execution_count": 115,
   "id": "2a6c3883",
   "metadata": {},
   "outputs": [],
   "source": [
    "D[\"newkey\"] = \"newval\""
   ]
  },
  {
   "cell_type": "code",
   "execution_count": 116,
   "id": "c2357317",
   "metadata": {},
   "outputs": [
    {
     "data": {
      "text/plain": [
       "{'val': 12, 'name': 'Ban', 'newkey': 'newval'}"
      ]
     },
     "execution_count": 116,
     "metadata": {},
     "output_type": "execute_result"
    }
   ],
   "source": [
    "D"
   ]
  },
  {
   "cell_type": "code",
   "execution_count": 117,
   "id": "03285ae4",
   "metadata": {},
   "outputs": [],
   "source": [
    "del D[\"val\"]"
   ]
  },
  {
   "cell_type": "code",
   "execution_count": 118,
   "id": "3f852dc7",
   "metadata": {},
   "outputs": [
    {
     "data": {
      "text/plain": [
       "{'name': 'Ban', 'newkey': 'newval'}"
      ]
     },
     "execution_count": 118,
     "metadata": {},
     "output_type": "execute_result"
    }
   ],
   "source": [
    "D"
   ]
  },
  {
   "cell_type": "code",
   "execution_count": 119,
   "id": "5faf462d",
   "metadata": {},
   "outputs": [],
   "source": [
    "D2 = D.copy()"
   ]
  },
  {
   "cell_type": "code",
   "execution_count": 120,
   "id": "4c5748f1",
   "metadata": {},
   "outputs": [
    {
     "data": {
      "text/plain": [
       "{'name': 'Ban', 'newkey': 'newval'}"
      ]
     },
     "execution_count": 120,
     "metadata": {},
     "output_type": "execute_result"
    }
   ],
   "source": [
    "D2"
   ]
  },
  {
   "cell_type": "markdown",
   "id": "94e6a408",
   "metadata": {},
   "source": [
    "## Question"
   ]
  },
  {
   "cell_type": "markdown",
   "id": "48eb34fb",
   "metadata": {},
   "source": [
    "#### Let say you are a teacher and you have different student records containing id of a student and the marks list in each subject where different students have taken different number of subjects. All these records are in hard copy. You want to enter all the data in computer and want to compute the average marks of each student and display !"
   ]
  },
  {
   "cell_type": "code",
   "execution_count": 127,
   "id": "427c0851",
   "metadata": {},
   "outputs": [],
   "source": [
    "def getDataFromUser():\n",
    "    D = {}\n",
    "    while True:\n",
    "        studentId = input(\"Enter student ID: \")\n",
    "        marksList = input(\"Enter the marks by comma separated values: \")\n",
    "        moreStudents = input('Enter \"no\" to quit insertion: ')\n",
    "        if studentId in D:\n",
    "            print(studentId, \"is already inserted\")\n",
    "        else:\n",
    "            D[studentId] = marksList.split(\",\")\n",
    "        if moreStudents.lower() == \"no\":\n",
    "            return D\n",
    "    "
   ]
  },
  {
   "cell_type": "code",
   "execution_count": 128,
   "id": "2f98802c",
   "metadata": {},
   "outputs": [
    {
     "name": "stdout",
     "output_type": "stream",
     "text": [
      "Enter student ID: 12\n",
      "Enter the marks by comma separated values: 24,41,50\n",
      "Enter \"no\" to quit insertion: no\n"
     ]
    }
   ],
   "source": [
    "studentData = getDataFromUser()"
   ]
  },
  {
   "cell_type": "code",
   "execution_count": 135,
   "id": "59a0f57c",
   "metadata": {},
   "outputs": [
    {
     "data": {
      "text/plain": [
       "{'12': ['24', '41', '50']}"
      ]
     },
     "execution_count": 135,
     "metadata": {},
     "output_type": "execute_result"
    }
   ],
   "source": [
    "studentData"
   ]
  },
  {
   "cell_type": "code",
   "execution_count": 141,
   "id": "174541ec",
   "metadata": {},
   "outputs": [],
   "source": [
    "def getAvgMarks(D):\n",
    "    avgMarks = {}\n",
    "    for x in D:\n",
    "        L = D[x]\n",
    "        s = 0\n",
    "        for marks in L:\n",
    "            s += int(marks)\n",
    "        avgMarks[x] = s/len(L)\n",
    "    return avgMarks"
   ]
  },
  {
   "cell_type": "code",
   "execution_count": 142,
   "id": "92c958af",
   "metadata": {},
   "outputs": [],
   "source": [
    "avgM = getAvgMarks(studentData)"
   ]
  },
  {
   "cell_type": "code",
   "execution_count": 143,
   "id": "fe537b04",
   "metadata": {},
   "outputs": [
    {
     "name": "stdout",
     "output_type": "stream",
     "text": [
      "Student : 12 got avg Marks as:  38.333333333333336\n"
     ]
    }
   ],
   "source": [
    "for x in avgM:\n",
    "    print(\"Student :\",x,\"got avg Marks as: \",avgM[x])"
   ]
  },
  {
   "cell_type": "markdown",
   "id": "2fb097af",
   "metadata": {},
   "source": [
    "# Map Function"
   ]
  },
  {
   "cell_type": "code",
   "execution_count": 15,
   "id": "eb70ef87",
   "metadata": {},
   "outputs": [],
   "source": [
    "def even_odd(a):\n",
    "    if a%2==0:\n",
    "        return'The number {} is even'.format(a)\n",
    "    else:\n",
    "        return'The number {} is odd'.format(a)"
   ]
  },
  {
   "cell_type": "code",
   "execution_count": 16,
   "id": "e41f15bf",
   "metadata": {},
   "outputs": [
    {
     "data": {
      "text/plain": [
       "'The number 24 is even'"
      ]
     },
     "execution_count": 16,
     "metadata": {},
     "output_type": "execute_result"
    }
   ],
   "source": [
    "even_odd(24)"
   ]
  },
  {
   "cell_type": "code",
   "execution_count": 17,
   "id": "78df18f3",
   "metadata": {},
   "outputs": [],
   "source": [
    "lst=[24,2,3,5,6,8,10,12,98]"
   ]
  },
  {
   "cell_type": "code",
   "execution_count": 18,
   "id": "622c4292",
   "metadata": {},
   "outputs": [
    {
     "data": {
      "text/plain": [
       "['The number 24 is even',\n",
       " 'The number 2 is even',\n",
       " 'The number 3 is odd',\n",
       " 'The number 5 is odd',\n",
       " 'The number 6 is even',\n",
       " 'The number 8 is even',\n",
       " 'The number 10 is even',\n",
       " 'The number 12 is even',\n",
       " 'The number 98 is even']"
      ]
     },
     "execution_count": 18,
     "metadata": {},
     "output_type": "execute_result"
    }
   ],
   "source": [
    "list(map(even_odd,lst))"
   ]
  },
  {
   "cell_type": "markdown",
   "id": "aca66c2a",
   "metadata": {},
   "source": [
    "# Lambda Function"
   ]
  },
  {
   "cell_type": "code",
   "execution_count": 19,
   "id": "ebec1b13",
   "metadata": {},
   "outputs": [],
   "source": [
    "def addition(a,b):\n",
    "    return a+b"
   ]
  },
  {
   "cell_type": "code",
   "execution_count": 20,
   "id": "28421a6c",
   "metadata": {},
   "outputs": [
    {
     "data": {
      "text/plain": [
       "12"
      ]
     },
     "execution_count": 20,
     "metadata": {},
     "output_type": "execute_result"
    }
   ],
   "source": [
    "addition(4,8)"
   ]
  },
  {
   "cell_type": "code",
   "execution_count": 21,
   "id": "437a6f42",
   "metadata": {},
   "outputs": [],
   "source": [
    "addition=lambda a,b:a+b"
   ]
  },
  {
   "cell_type": "code",
   "execution_count": 22,
   "id": "86da0b6c",
   "metadata": {},
   "outputs": [
    {
     "data": {
      "text/plain": [
       "18"
      ]
     },
     "execution_count": 22,
     "metadata": {},
     "output_type": "execute_result"
    }
   ],
   "source": [
    "addition(7,11)"
   ]
  },
  {
   "cell_type": "markdown",
   "id": "bfd33c3f",
   "metadata": {},
   "source": [
    "### Lambda Function is only work in single expressions"
   ]
  },
  {
   "cell_type": "markdown",
   "id": "0da4e95a",
   "metadata": {},
   "source": [
    "# Filter Function"
   ]
  },
  {
   "cell_type": "code",
   "execution_count": 23,
   "id": "b87a7f5d",
   "metadata": {},
   "outputs": [],
   "source": [
    "def even(num):\n",
    "    if num % 2 == 0:\n",
    "        return True"
   ]
  },
  {
   "cell_type": "code",
   "execution_count": 24,
   "id": "4e9bd4db",
   "metadata": {},
   "outputs": [],
   "source": [
    "lst = [1,2,3,4,5,6,7,8,9,0]"
   ]
  },
  {
   "cell_type": "code",
   "execution_count": 25,
   "id": "00a25749",
   "metadata": {},
   "outputs": [
    {
     "data": {
      "text/plain": [
       "[2, 4, 6, 8, 0]"
      ]
     },
     "execution_count": 25,
     "metadata": {},
     "output_type": "execute_result"
    }
   ],
   "source": [
    "list(filter(even,lst))"
   ]
  },
  {
   "cell_type": "code",
   "execution_count": 26,
   "id": "5593aa0b",
   "metadata": {},
   "outputs": [
    {
     "data": {
      "text/plain": [
       "[2, 4, 6, 8, 0]"
      ]
     },
     "execution_count": 26,
     "metadata": {},
     "output_type": "execute_result"
    }
   ],
   "source": [
    "list(filter(lambda num: num%2==0, lst))"
   ]
  },
  {
   "cell_type": "code",
   "execution_count": 28,
   "id": "c8675b7c",
   "metadata": {},
   "outputs": [
    {
     "data": {
      "text/plain": [
       "[False, True, False, True, False, True, False, True, False, True]"
      ]
     },
     "execution_count": 28,
     "metadata": {},
     "output_type": "execute_result"
    }
   ],
   "source": [
    "list(map(lambda num: num%2==0, lst))"
   ]
  },
  {
   "cell_type": "markdown",
   "id": "6069ae9b",
   "metadata": {},
   "source": [
    "# List Comprehensions\n",
    "\n",
    "##### List comprehensions provide a concise way to create lists."
   ]
  },
  {
   "cell_type": "code",
   "execution_count": 36,
   "id": "07072d85",
   "metadata": {},
   "outputs": [],
   "source": [
    "lst1=[]\n",
    "def lst_square(lst):\n",
    "    for i in lst:\n",
    "        lst1.append(i*i)\n",
    "    return lst1"
   ]
  },
  {
   "cell_type": "code",
   "execution_count": 37,
   "id": "5751fa5a",
   "metadata": {},
   "outputs": [
    {
     "data": {
      "text/plain": [
       "[1, 4, 9, 16, 25, 36, 49]"
      ]
     },
     "execution_count": 37,
     "metadata": {},
     "output_type": "execute_result"
    }
   ],
   "source": [
    "lst_square([1, 2, 3, 4, 5, 6, 7])"
   ]
  },
  {
   "cell_type": "code",
   "execution_count": 44,
   "id": "f9be838f",
   "metadata": {},
   "outputs": [],
   "source": [
    "### list comprehension\n",
    "lst=[1, 2, 3, 4, 5, 6, 7]"
   ]
  },
  {
   "cell_type": "code",
   "execution_count": 45,
   "id": "02d072e1",
   "metadata": {},
   "outputs": [
    {
     "data": {
      "text/plain": [
       "[1, 4, 9, 16, 25, 36, 49]"
      ]
     },
     "execution_count": 45,
     "metadata": {},
     "output_type": "execute_result"
    }
   ],
   "source": [
    "[i*i for i in lst]"
   ]
  },
  {
   "cell_type": "code",
   "execution_count": 46,
   "id": "2ec679d6",
   "metadata": {},
   "outputs": [
    {
     "data": {
      "text/plain": [
       "[4, 16, 36]"
      ]
     },
     "execution_count": 46,
     "metadata": {},
     "output_type": "execute_result"
    }
   ],
   "source": [
    "[i*i for i in lst if i%2==0 ]"
   ]
  },
  {
   "cell_type": "code",
   "execution_count": 47,
   "id": "a9fdbdf8",
   "metadata": {},
   "outputs": [
    {
     "data": {
      "text/plain": [
       "[1, 9, 25, 49]"
      ]
     },
     "execution_count": 47,
     "metadata": {},
     "output_type": "execute_result"
    }
   ],
   "source": [
    "[i*i for i in lst if i%2!=0 ]"
   ]
  },
  {
   "cell_type": "markdown",
   "id": "f9804ac2",
   "metadata": {},
   "source": [
    "# String Formatting"
   ]
  },
  {
   "cell_type": "code",
   "execution_count": null,
   "id": "55812636",
   "metadata": {},
   "outputs": [],
   "source": []
  }
 ],
 "metadata": {
  "kernelspec": {
   "display_name": "Python 3 (ipykernel)",
   "language": "python",
   "name": "python3"
  },
  "language_info": {
   "codemirror_mode": {
    "name": "ipython",
    "version": 3
   },
   "file_extension": ".py",
   "mimetype": "text/x-python",
   "name": "python",
   "nbconvert_exporter": "python",
   "pygments_lexer": "ipython3",
   "version": "3.11.5"
  }
 },
 "nbformat": 4,
 "nbformat_minor": 5
}
